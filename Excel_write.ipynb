# -*- coding: utf-8 -*-
"""
Created on Sun Jan 29 17:17:53 2023

@author: takay
"""

from matplotlib import pyplot
import pandas

x = [1,3,5,30,55,100]
y = range(len(x))

pyplot.plot(x, y)
pyplot.scatter(x, y)
pyplot.show()

data = pandas.read_excel()